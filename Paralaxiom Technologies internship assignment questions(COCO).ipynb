{
 "cells": [
  {
   "cell_type": "code",
   "execution_count": 1,
   "id": "8c593404",
   "metadata": {},
   "outputs": [],
   "source": [
    "import json\n",
    "import random\n",
    "from collections import Counter, defaultdict\n",
    "import numpy as np\n",
    "import os"
   ]
  },
  {
   "cell_type": "code",
   "execution_count": 4,
   "id": "2c13ea2c",
   "metadata": {},
   "outputs": [
    {
     "name": "stdout",
     "output_type": "stream",
     "text": [
      "Loaded COCO JSON: C:/Users/hp/Downloads/mock_coco.json\n",
      "Images: 100\n",
      "Annotations: 295\n",
      "Categories: 10\n"
     ]
    }
   ],
   "source": [
    "COCO_FPATH = \"C:/Users/hp/Downloads/mock_coco.json\" \n",
    "\n",
    "with open(COCO_FPATH, \"r\") as f:\n",
    "    coco = json.load(f)\n",
    "\n",
    "images = coco.get(\"images\", [])\n",
    "annotations = coco.get(\"annotations\", [])\n",
    "categories = coco.get(\"categories\", [])\n",
    "\n",
    "print(f\"Loaded COCO JSON: {COCO_FPATH}\")\n",
    "print(\"Images:\", len(images))\n",
    "print(\"Annotations:\", len(annotations))\n",
    "print(\"Categories:\", len(categories))\n",
    "\n",
    "# convenience maps\n",
    "cat_id2name = {c[\"id\"]: c.get(\"name\", str(c[\"id\"])) for c in categories}\n",
    "img_id2meta = {img[\"id\"]: img for img in images}"
   ]
  },
  {
   "cell_type": "code",
   "execution_count": 5,
   "id": "b1d13400",
   "metadata": {},
   "outputs": [
    {
     "name": "stdout",
     "output_type": "stream",
     "text": [
      "SUMMARY REPORT\n",
      "Total images: 100\n",
      "Total annotations: 295\n",
      "Top 3 categories:\n",
      " - fire hydrant (id=10): 33 annotations\n",
      " - bicycle (id=3): 33 annotations\n",
      " - car (id=1): 31 annotations\n",
      "\n",
      "Full category counts:\n",
      "fire hydrant (id=10): 33  -> 11.19%\n",
      "bicycle (id=3): 33  -> 11.19%\n",
      "car (id=1): 31  -> 10.51%\n",
      "person (id=2): 31  -> 10.51%\n",
      "traffic light (id=8): 30  -> 10.17%\n",
      "dog (id=4): 29  -> 9.83%\n",
      "truck (id=7): 29  -> 9.83%\n",
      "bench (id=9): 28  -> 9.49%\n",
      "cat (id=5): 27  -> 9.15%\n",
      "bus (id=6): 24  -> 8.14%\n"
     ]
    }
   ],
   "source": [
    "total_images = len(images)\n",
    "total_annotations = len(annotations)\n",
    "\n",
    "# per-category counts\n",
    "cat_counts = Counter([ann[\"category_id\"] for ann in annotations])\n",
    "top3 = cat_counts.most_common(3)\n",
    "\n",
    "print(\"SUMMARY REPORT\")\n",
    "print(\"Total images:\", total_images)\n",
    "print(\"Total annotations:\", total_annotations)\n",
    "print(\"Top 3 categories:\")\n",
    "for cid, cnt in top3:\n",
    "    print(f\" - {cat_id2name.get(cid, cid)} (id={cid}): {cnt} annotations\")\n",
    "    \n",
    "# optional: full per-category breakdown\n",
    "print(\"\\nFull category counts:\")\n",
    "for cid, cnt in cat_counts.most_common():\n",
    "    print(f\"{cat_id2name.get(cid,cid)} (id={cid}): {cnt}  -> {cnt/total_annotations*100:.2f}%\")\n"
   ]
  },
  {
   "cell_type": "code",
   "execution_count": 7,
   "id": "78cf7949",
   "metadata": {},
   "outputs": [
    {
     "name": "stdout",
     "output_type": "stream",
     "text": [
      "Image counts per split: {'train': 70, 'val': 15, 'test': 15}\n",
      "Annotation counts per split: {'train': 197, 'val': 52, 'test': 46}\n",
      "Saved split assignment to: coco_split_assignment.json\n"
     ]
    }
   ],
   "source": [
    "# Build image -> unique category set\n",
    "img2cats = defaultdict(set)\n",
    "for a in annotations:\n",
    "    img2cats[a[\"image_id\"]].add(a[\"category_id\"])\n",
    "\n",
    "image_rows = [{\"image_id\": img[\"id\"], \"file_name\": img.get(\"file_name\",\"\"), \"categories\": sorted(list(img2cats.get(img[\"id\"], [])))} for img in images]\n",
    "\n",
    "def multilabel_greedy_split(image_rows, ratios=(0.7,0.15,0.15), seed=0):\n",
    "    splits = [\"train\",\"val\",\"test\"]\n",
    "    random.seed(seed)\n",
    "    imgs = image_rows.copy()\n",
    "    random.shuffle(imgs)\n",
    "    total = len(imgs)\n",
    "    # assign integer targets for val/test; leave train as remainder\n",
    "    target = {\"train\": int(ratios[0]*total), \"val\": int(ratios[1]*total), \"test\": int(ratios[2]*total)}\n",
    "    assigned = {s:[] for s in splits}\n",
    "    cat_totals = Counter()\n",
    "    for r in imgs:\n",
    "        for c in r[\"categories\"]:\n",
    "            cat_totals[c]+=1\n",
    "    cur_counts = {s:Counter() for s in splits}\n",
    "    for r in imgs:\n",
    "        best=None; best_score=None\n",
    "        for s in splits:\n",
    "            # respect val/test capacities first\n",
    "            if s!=\"train\" and len(assigned[s]) >= target[s]:\n",
    "                continue\n",
    "            score=0.0\n",
    "            for c in r[\"categories\"]:\n",
    "                desired = ratios[splits.index(s)]\n",
    "                cur_frac = cur_counts[s][c] / (cat_totals[c] + 1e-9)\n",
    "                score += abs(cur_frac - desired)\n",
    "            if best_score is None or score < best_score:\n",
    "                best_score = score; best=s\n",
    "        assigned[best].append(r)\n",
    "        for c in r[\"categories\"]:\n",
    "            cur_counts[best][c]+=1\n",
    "    return assigned\n",
    "\n",
    "assigned = multilabel_greedy_split(image_rows, ratios=(0.7,0.15,0.15), seed=123)\n",
    "\n",
    "# count annotations in each split\n",
    "split_ann_counts = {}\n",
    "split_cat_counts = {}\n",
    "for s, imgs_assigned in assigned.items():\n",
    "    img_ids = set([r[\"image_id\"] for r in imgs_assigned])\n",
    "    anns = [a for a in annotations if a[\"image_id\"] in img_ids]\n",
    "    split_ann_counts[s] = len(anns)\n",
    "    split_cat_counts[s] = Counter([a[\"category_id\"] for a in anns])\n",
    "\n",
    "print(\"Image counts per split:\", {s:len(assigned[s]) for s in assigned})\n",
    "print(\"Annotation counts per split:\", split_ann_counts)\n",
    "\n",
    "# Save image assignments\n",
    "split_assign_path = \"coco_split_assignment.json\"\n",
    "with open(split_assign_path, \"w\") as f:\n",
    "    json.dump({s:[r[\"image_id\"] for r in assigned[s]] for s in assigned}, f, indent=2)\n",
    "print(\"Saved split assignment to:\", split_assign_path)\n"
   ]
  },
  {
   "cell_type": "code",
   "execution_count": 8,
   "id": "d86398ff",
   "metadata": {},
   "outputs": [
    {
     "name": "stdout",
     "output_type": "stream",
     "text": [
      "Wrote splits/train.json images: 70\n",
      "Wrote splits/val.json images: 15\n",
      "Wrote splits/test.json images: 15\n"
     ]
    }
   ],
   "source": [
    "def export_coco_split(coco, image_ids, out_path):\n",
    "    # images subset\n",
    "    image_set = set(image_ids)\n",
    "    new_images = [img for img in coco[\"images\"] if img[\"id\"] in image_set]\n",
    "    new_annotations = [ann for ann in coco[\"annotations\"] if ann[\"image_id\"] in image_set]\n",
    "    new_coco = {\n",
    "        \"images\": new_images,\n",
    "        \"annotations\": new_annotations,\n",
    "        \"categories\": coco.get(\"categories\", [])\n",
    "    }\n",
    "    with open(out_path, \"w\") as f:\n",
    "        json.dump(new_coco, f)\n",
    "    return out_path\n",
    "\n",
    "# create files\n",
    "os.makedirs(\"splits\", exist_ok=True)\n",
    "for s in [\"train\",\"val\",\"test\"]:\n",
    "    img_ids = [r[\"image_id\"] for r in assigned[s]]\n",
    "    p = f\"splits/{s}.json\"\n",
    "    export_coco_split(coco, img_ids, p)\n",
    "    print(\"Wrote\", p, \"images:\", len(img_ids))\n"
   ]
  },
  {
   "cell_type": "code",
   "execution_count": 9,
   "id": "a4481fbb",
   "metadata": {},
   "outputs": [
    {
     "name": "stdout",
     "output_type": "stream",
     "text": [
      "Exact duplicate pairs found: 0\n",
      "Near-duplicate pairs (IoU >= 0.99) found: 0\n"
     ]
    }
   ],
   "source": [
    "from itertools import combinations\n",
    "\n",
    "def bbox_iou(boxA, boxB):\n",
    "    # boxes in [x,y,w,h]\n",
    "    xA = max(boxA[0], boxB[0])\n",
    "    yA = max(boxA[1], boxB[1])\n",
    "    xB = min(boxA[0]+boxA[2], boxB[0]+boxB[2])\n",
    "    yB = min(boxA[1]+boxA[3], boxB[1]+boxB[3])\n",
    "    interW = max(0, xB-xA)\n",
    "    interH = max(0, yB-yA)\n",
    "    inter = interW * interH\n",
    "    areaA = boxA[2]*boxA[3]\n",
    "    areaB = boxB[2]*boxB[3]\n",
    "    union = areaA + areaB - inter\n",
    "    return inter/union if union>0 else 0.0\n",
    "\n",
    "img2anns = defaultdict(list)\n",
    "for a in annotations:\n",
    "    img2anns[a[\"image_id\"]].append(a)\n",
    "\n",
    "exact_duplicates = []\n",
    "near_duplicates = []\n",
    "for img_id, anns_list in img2anns.items():\n",
    "    for a,b in combinations(anns_list, 2):\n",
    "        # exact\n",
    "        if a[\"category_id\"]==b[\"category_id\"] and a[\"bbox\"]==b[\"bbox\"] and a.get(\"iscrowd\",0)==b.get(\"iscrowd\",0):\n",
    "            exact_duplicates.append((a[\"id\"], b[\"id\"], img_id, a[\"category_id\"]))\n",
    "        else:\n",
    "            if a[\"category_id\"]==b[\"category_id\"]:\n",
    "                iou = bbox_iou(a[\"bbox\"], b[\"bbox\"])\n",
    "                if iou >= 0.99:\n",
    "                    near_duplicates.append((a[\"id\"], b[\"id\"], img_id, a[\"category_id\"], iou))\n",
    "\n",
    "print(\"Exact duplicate pairs found:\", len(exact_duplicates))\n",
    "print(\"Near-duplicate pairs (IoU >= 0.99) found:\", len(near_duplicates))\n",
    "\n",
    "# if you want a looser detection, change threshold to 0.9\n"
   ]
  },
  {
   "cell_type": "code",
   "execution_count": 10,
   "id": "7d00f1d0",
   "metadata": {},
   "outputs": [
    {
     "name": "stdout",
     "output_type": "stream",
     "text": [
      "Per-category counts:\n",
      "fire hydrant (id=10): 33 (11.19%)\n",
      "bicycle (id=3): 33 (11.19%)\n",
      "car (id=1): 31 (10.51%)\n",
      "person (id=2): 31 (10.51%)\n",
      "traffic light (id=8): 30 (10.17%)\n",
      "dog (id=4): 29 (9.83%)\n",
      "truck (id=7): 29 (9.83%)\n",
      "bench (id=9): 28 (9.49%)\n",
      "cat (id=5): 27 (9.15%)\n",
      "bus (id=6): 24 (8.14%)\n",
      "\n",
      "Class imbalance metrics:\n",
      " mean=29.50, std=2.62, max/min ratio=1.38\n",
      "Conclusion: no severe class imbalance (ratio < 2.0).\n"
     ]
    }
   ],
   "source": [
    "counts = np.array([v for v in cat_counts.values()])\n",
    "mean = counts.mean()\n",
    "std = counts.std()\n",
    "imbalance_ratio = counts.max() / counts.min() if counts.min()>0 else float(\"inf\")\n",
    "\n",
    "print(\"Per-category counts:\")\n",
    "for cid, cnt in cat_counts.most_common():\n",
    "    print(f\"{cat_id2name.get(cid,cid)} (id={cid}): {cnt} ({cnt/total_annotations*100:.2f}%)\")\n",
    "\n",
    "print(\"\\nClass imbalance metrics:\")\n",
    "print(f\" mean={mean:.2f}, std={std:.2f}, max/min ratio={imbalance_ratio:.2f}\")\n",
    "\n",
    "# simple rule-of-thumb:\n",
    "if imbalance_ratio < 2.0:\n",
    "    print(\"Conclusion: no severe class imbalance (ratio < 2.0).\")\n",
    "else:\n",
    "    print(\"Conclusion: noticeable imbalance (consider augmentation / re-weighting).\")\n"
   ]
  },
  {
   "cell_type": "code",
   "execution_count": null,
   "id": "43b44b1c",
   "metadata": {},
   "outputs": [],
   "source": []
  }
 ],
 "metadata": {
  "kernelspec": {
   "display_name": "Python 3 (ipykernel)",
   "language": "python",
   "name": "python3"
  },
  "language_info": {
   "codemirror_mode": {
    "name": "ipython",
    "version": 3
   },
   "file_extension": ".py",
   "mimetype": "text/x-python",
   "name": "python",
   "nbconvert_exporter": "python",
   "pygments_lexer": "ipython3",
   "version": "3.11.5"
  }
 },
 "nbformat": 4,
 "nbformat_minor": 5
}
